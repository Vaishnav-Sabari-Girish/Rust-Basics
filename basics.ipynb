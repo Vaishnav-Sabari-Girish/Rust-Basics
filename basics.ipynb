{
 "cells": [
  {
   "cell_type": "markdown",
   "id": "a6711f03",
   "metadata": {
    "jupyter": {
     "source_hidden": false
    }
   },
   "source": [
    "# Basics of Rust"
   ]
  },
  {
   "cell_type": "markdown",
   "id": "8fbba899",
   "metadata": {
    "jupyter": {
     "source_hidden": false
    }
   },
   "source": [
    "(Refer the actual_programs/hello_world for all cargo files)"
   ]
  },
  {
   "cell_type": "markdown",
   "id": "4c32b731",
   "metadata": {
    "collapsed": false,
    "jupyter": {
     "outputs_hidden": false,
     "source_hidden": false
    }
   },
   "source": [
    "## Hello World "
   ]
  },
  {
   "cell_type": "code",
   "execution_count": 4,
   "id": "10e6a2b3",
   "metadata": {
    "collapsed": false,
    "jupyter": {
     "outputs_hidden": false
    }
   },
   "outputs": [
    {
     "name": "stdout",
     "output_type": "stream",
     "text": [
      "Hello World\n"
     ]
    }
   ],
   "source": [
    "fn main(){\n",
    "    println!(\"Hello World\");\n",
    "}\n",
    "\n",
    "main();"
   ]
  },
  {
   "cell_type": "code",
   "execution_count": 6,
   "id": "a4a6975b",
   "metadata": {
    "collapsed": false,
    "jupyter": {
     "outputs_hidden": false
    }
   },
   "outputs": [
    {
     "name": "stdout",
     "output_type": "stream",
     "text": [
      "Hello World\n"
     ]
    }
   ],
   "source": [
    "// Another way (only jupyter notebooks)\n",
    "println!(\"Hello World\");"
   ]
  },
  {
   "cell_type": "markdown",
   "execution_count": 2,
   "id": "51651300",
   "metadata": {
    "jupyter": {
     "source_hidden": false
    }
   },
   "source": [
    "## Variables"
   ]
  },
  {
   "cell_type": "markdown",
   "id": "139033e2",
   "metadata": {
    "jupyter": {
     "source_hidden": false
    }
   },
   "source": [
    "Variables in rust are immutable (not changeable by default).\n",
    "\n",
    "To make them mutable, you must use the `mut` keyword"
   ]
  },
  {
   "cell_type": "code",
   "execution_count": 5,
   "id": "dc98e6c7",
   "metadata": {
    "collapsed": false,
    "jupyter": {
     "outputs_hidden": false,
     "source_hidden": false
    }
   },
   "outputs": [
    {
     "name": "stdout",
     "output_type": "stream",
     "text": [
      "Immutable variable var1: 10\n"
     ]
    },
    {
     "name": "stdout",
     "output_type": "stream",
     "text": [
      "Mutable variable var2: 40\n"
     ]
    }
   ],
   "source": [
    "fn main(){\n",
    "    let var1: i32 = 10;   //Immutable 32 bit integer\n",
    "    let mut var2: i32 = 40;  //Mutable 32 bit integer\n",
    "    \n",
    "    println!(\"Immutable variable var1: {}\", var1);\n",
    "    println!(\"Mutable variable var2: {}\", var2);\n",
    "}\n",
    "main();"
   ]
  },
  {
   "cell_type": "code",
   "execution_count": null,
   "id": "abfce3a3",
   "metadata": {},
   "outputs": [],
   "source": []
  }
 ],
 "metadata": {
  "kernelspec": {
   "display_name": "Rust",
   "language": "rust",
   "name": "rust"
  },
  "language_info": {
   "codemirror_mode": "rust",
   "file_extension": ".rs",
   "mimetype": "text/rust",
   "name": "Rust",
   "pygment_lexer": "rust",
   "version": ""
  },
  "widgets": {
   "application/vnd.jupyter.widget-state+json": {
    "state": {},
    "version_major": 2,
    "version_minor": 0
   }
  }
 },
 "nbformat": 4,
 "nbformat_minor": 5
}
