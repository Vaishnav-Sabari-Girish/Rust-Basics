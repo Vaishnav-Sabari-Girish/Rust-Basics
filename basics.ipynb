{
 "cells": [
  {
   "cell_type": "markdown",
   "execution_count": 2,
   "id": "a6711f03",
   "metadata": {
    "jupyter": {
     "source_hidden": false
    }
   },
   "source": [
    "# Basics of Rust"
   ]
  },
  {
   "cell_type": "markdown",
   "execution_count": 2,
   "id": "8fbba899",
   "metadata": {
    "jupyter": {
     "source_hidden": false
    }
   },
   "source": [
    "(Refer the actual_programs/hello_world for all cargo files)"
   ]
  },
  {
   "cell_type": "markdown",
   "id": "4c32b731",
   "metadata": {
    "collapsed": false,
    "jupyter": {
     "outputs_hidden": false,
     "source_hidden": false
    }
   },
   "source": [
    "## Hello World "
   ]
  },
  {
   "cell_type": "code",
   "execution_count": 2,
   "id": "10e6a2b3",
   "metadata": {
    "collapsed": false,
    "jupyter": {
     "outputs_hidden": false
    }
   },
   "outputs": [
    {
     "name": "stdout",
     "output_type": "stream",
     "text": [
      "Hello World\n"
     ]
    }
   ],
   "source": [
    "fn main(){\n",
    "    println!(\"Hello World\");\n",
    "}\n",
    "\n",
    "main();"
   ]
  },
  {
   "cell_type": "code",
   "execution_count": 3,
   "id": "a4a6975b",
   "metadata": {
    "collapsed": false,
    "jupyter": {
     "outputs_hidden": false
    }
   },
   "outputs": [
    {
     "name": "stdout",
     "output_type": "stream",
     "text": [
      "Hello World\n"
     ]
    }
   ],
   "source": [
    "// Another way (only jupyter notebooks)\n",
    "println!(\"Hello World\");"
   ]
  },
  {
   "cell_type": "markdown",
   "id": "51651300",
   "metadata": {
    "jupyter": {
     "source_hidden": false
    }
   },
   "source": [
    "## Variables"
   ]
  },
  {
   "cell_type": "markdown",
   "id": "139033e2",
   "metadata": {
    "jupyter": {
     "source_hidden": false
    }
   },
   "source": [
    "Variables in rust are immutable (not changeable by default).\n",
    "\n",
    "To make them mutable, you must use the `mut` keyword"
   ]
  },
  {
   "cell_type": "code",
   "execution_count": null,
   "id": "dc98e6c7",
   "metadata": {
    "collapsed": false,
    "jupyter": {
     "outputs_hidden": false,
     "source_hidden": false
    }
   },
   "outputs": [
    {
     "name": "stdout",
     "output_type": "stream",
     "text": [
      "Immutable variable var1: 10\n",
      "Mutable variable var2: 40\n"
     ]
    }
   ],
   "source": [
    "fn main(){\n",
    "    let var1: i32 = 10;   //Immutable 32 bit integer\n",
    "    let mut var2: i32 = 40;  //Mutable 32 bit integer\n",
    "    \n",
    "    println!(\"Immutable variable var1: {}\", var1);\n",
    "    println!(\"Mutable variable var2: {}\", var2);\n",
    "}\n",
    "main();"
   ]
  },
  {
   "cell_type": "markdown",
   "id": "abfce3a3",
   "metadata": {
    "jupyter": {
     "source_hidden": false
    }
   },
   "source": [
    "## User input"
   ]
  },
  {
   "cell_type": "code",
   "execution_count": null,
   "id": "1abd88c6",
   "metadata": {
    "collapsed": false,
    "jupyter": {
     "outputs_hidden": false,
     "source_hidden": false
    }
   },
   "outputs": [],
   "source": [
    "use std::io;\n",
    "fn main(){\n",
    "    let mut name: String = String::new();    //Empty String\n",
    "    println!(\"Please Enter your name: \");\n",
    "    io::stdin()\n",
    "        .read_line(&mut name)\n",
    "        .expect(\"Error in input\");\n",
    "    println!(\"Hi there, {}\", name);\n",
    "}\n",
    "main();"
   ]
  },
  {
   "cell_type": "markdown",
   "id": "dd909179-d09c-455e-aae3-db4ca168c464",
   "metadata": {
    "jupyter": {
     "source_hidden": false
    }
   },
   "source": [
    "## Scope"
   ]
  },
  {
   "cell_type": "markdown",
   "id": "2b1cefb9",
   "metadata": {
    "jupyter": {
     "source_hidden": false
    }
   },
   "source": [
    "The range within a program for which the item is valid i.e a range of numbers"
   ]
  },
  {
   "cell_type": "code",
   "execution_count": 6,
   "id": "ebf841a4",
   "metadata": {
    "collapsed": false,
    "jupyter": {
     "outputs_hidden": false,
     "source_hidden": false
    }
   },
   "outputs": [
    {
     "name": "stdout",
     "output_type": "stream",
     "text": [
      "10 + 0 = 10\n"
     ]
    },
    {
     "name": "stdout",
     "output_type": "stream",
     "text": [
      "10 + 1 = 11\n"
     ]
    },
    {
     "name": "stdout",
     "output_type": "stream",
     "text": [
      "10 + 2 = 12\n"
     ]
    },
    {
     "name": "stdout",
     "output_type": "stream",
     "text": [
      "10 + 3 = 13\n"
     ]
    },
    {
     "name": "stdout",
     "output_type": "stream",
     "text": [
      "10 + 4 = 14\n"
     ]
    },
    {
     "name": "stdout",
     "output_type": "stream",
     "text": [
      "10 + 5 = 15\n"
     ]
    },
    {
     "name": "stdout",
     "output_type": "stream",
     "text": [
      "10 + 6 = 16\n"
     ]
    },
    {
     "name": "stdout",
     "output_type": "stream",
     "text": [
      "10 + 7 = 17\n"
     ]
    },
    {
     "name": "stdout",
     "output_type": "stream",
     "text": [
      "10 + 8 = 18\n"
     ]
    },
    {
     "name": "stdout",
     "output_type": "stream",
     "text": [
      "10 + 9 = 19\n"
     ]
    }
   ],
   "source": [
    "fn main() {\n",
    "    let x: i32 = 10;\n",
    "    \n",
    "    for i in 0..10 {    //Range of values\n",
    "        println!(\"{} + {} = {}\", x , i, x+i);\n",
    "    }\n",
    "}\n",
    "\n",
    "main();"
   ]
  },
  {
   "cell_type": "markdown",
   "id": "117176e5",
   "metadata": {
    "jupyter": {
     "source_hidden": false
    }
   },
   "source": [
    "## Primitive Data Types"
   ]
  },
  {
   "cell_type": "markdown",
   "id": "4eb816d0",
   "metadata": {
    "jupyter": {
     "source_hidden": false
    }
   },
   "source": [
    "The datatypes in rust are as follows :\n",
    "### Integer\n",
    "\n",
    "Rust has both signed and unsigned integer types of different sizes as follows :\n",
    "\n",
    "`i8, i16, i32, i64, i128` (Signed Integers)\n",
    "\n",
    "`u8, u16, u32, u64, u128` (Unsigned integers)\n",
    "\n",
    "Maximum values are: \n",
    "i32 = 2147483647\n",
    "i64 = 9223372036854775807"
   ]
  },
  {
   "cell_type": "code",
   "execution_count": 3,
   "id": "ce26cdfe",
   "metadata": {
    "collapsed": false,
    "jupyter": {
     "outputs_hidden": false,
     "source_hidden": false
    }
   },
   "outputs": [
    {
     "name": "stdout",
     "output_type": "stream",
     "text": [
      "Signed Integer x: -42\n"
     ]
    },
    {
     "name": "stdout",
     "output_type": "stream",
     "text": [
      "Unsigned integer y: 100\n"
     ]
    }
   ],
   "source": [
    "fn main() {\n",
    "    let x: i32 = -42;   //Cause it's signed\n",
    "    let y: u64 = 100;    //Cause it's unsigned\n",
    "    println!(\"Signed Integer x: {}\", x);\n",
    "    println!(\"Unsigned integer y: {}\", y);\n",
    "}\n",
    "\n",
    "main();"
   ]
  },
  {
   "cell_type": "markdown",
   "id": "aec009d1",
   "metadata": {
    "jupyter": {
     "source_hidden": false
    }
   },
   "source": [
    "### Float\n",
    "\n",
    "Only 2 types \n",
    "f32 and f64"
   ]
  },
  {
   "cell_type": "code",
   "execution_count": 4,
   "id": "16cb0722",
   "metadata": {
    "collapsed": false,
    "jupyter": {
     "outputs_hidden": false,
     "source_hidden": false
    }
   },
   "outputs": [
    {
     "name": "stdout",
     "output_type": "stream",
     "text": [
      "Value of pi: 3.14\n"
     ]
    }
   ],
   "source": [
    "fn main() {\n",
    "    let pi: f64 = 3.14;\n",
    "    println!(\"Value of pi: {}\", pi);\n",
    "}\n",
    "main();"
   ]
  },
  {
   "cell_type": "markdown",
   "id": "10571b8f",
   "metadata": {
    "jupyter": {
     "source_hidden": false
    }
   },
   "source": [
    "### Boolean values\n",
    "\n",
    "Either true or false"
   ]
  },
  {
   "cell_type": "code",
   "execution_count": 5,
   "id": "776a296a",
   "metadata": {
    "collapsed": false,
    "jupyter": {
     "outputs_hidden": false,
     "source_hidden": false
    }
   },
   "outputs": [
    {
     "name": "stdout",
     "output_type": "stream",
     "text": [
      "Is he a student: true\n"
     ]
    },
    {
     "name": "stdout",
     "output_type": "stream",
     "text": [
      "Is he working: false\n"
     ]
    }
   ],
   "source": [
    "fn main(){\n",
    "    let is_student: bool = true;\n",
    "    let is_working: bool = false;\n",
    "    \n",
    "    println!(\"Is he a student: {}\", is_student);\n",
    "    println!(\"Is he working: {}\", is_working);\n",
    "}\n",
    "main();"
   ]
  },
  {
   "cell_type": "markdown",
   "id": "bbf84b5b",
   "metadata": {
    "jupyter": {
     "source_hidden": false
    }
   },
   "source": [
    "### Character\n",
    "\n",
    "Represented by `char`"
   ]
  },
  {
   "cell_type": "code",
   "execution_count": 7,
   "id": "277e7519",
   "metadata": {
    "collapsed": false,
    "jupyter": {
     "outputs_hidden": false,
     "source_hidden": false
    }
   },
   "outputs": [
    {
     "name": "stdout",
     "output_type": "stream",
     "text": [
      "The letter given is: a\n"
     ]
    }
   ],
   "source": [
    "fn main(){\n",
    "    let letter: char = 'a';\n",
    "    println!(\"The letter given is: {}\", letter);\n",
    "}\n",
    "\n",
    "main();"
   ]
  },
  {
   "cell_type": "markdown",
   "id": "46ff0291",
   "metadata": {
    "jupyter": {
     "source_hidden": false
    }
   },
   "source": [
    "## Compound Data Types"
   ]
  },
  {
   "cell_type": "markdown",
   "id": "1d472828",
   "metadata": {
    "jupyter": {
     "source_hidden": false
    }
   },
   "source": [
    "The compound datatypes in Rust are: \n",
    "\n",
    "### Arrays\n",
    "\n",
    "Fixed sized collection of objects of same datatype\n",
    "\n",
    "They are declared as follows \n",
    "\n",
    "`let <array_name>: [<datatype>; <size>] = <values withing []>;`"
   ]
  },
  {
   "cell_type": "code",
   "execution_count": 14,
   "id": "49f2984c",
   "metadata": {
    "collapsed": false,
    "jupyter": {
     "outputs_hidden": false,
     "source_hidden": false
    }
   },
   "outputs": [
    {
     "name": "stdout",
     "output_type": "stream",
     "text": [
      "Number array: [1, 2, 3, 4, 5]\n"
     ]
    },
    {
     "name": "stdout",
     "output_type": "stream",
     "text": [
      "String Array: [\"apple\", \"banana\", \"orange\"]: \n"
     ]
    },
    {
     "name": "stdout",
     "output_type": "stream",
     "text": [
      "\n"
     ]
    },
    {
     "name": "stdout",
     "output_type": "stream",
     "text": [
      "Accessing each element of the array\n"
     ]
    },
    {
     "name": "stdout",
     "output_type": "stream",
     "text": [
      "\n"
     ]
    },
    {
     "name": "stdout",
     "output_type": "stream",
     "text": [
      "String array 1st element: apple\n"
     ]
    },
    {
     "name": "stdout",
     "output_type": "stream",
     "text": [
      "String array 2nd element: banana\n"
     ]
    },
    {
     "name": "stdout",
     "output_type": "stream",
     "text": [
      "String array 3rd element: orange\n"
     ]
    }
   ],
   "source": [
    "fn main() {\n",
    "    let numbers: [i32; 5] = [1, 2, 3, 4, 5];\n",
    "    println!(\"Number array: {:?}\", numbers);\n",
    "    \n",
    "    let fruits: [&str; 3] = [\"apple\", \"banana\", \"orange\"];\n",
    "    println!(\"String Array: {:?}: \", fruits);\n",
    "    \n",
    "    println!(\"\");\n",
    "    \n",
    "    println!(\"Accessing each element of the array\");\n",
    "    println!();\n",
    "    \n",
    "    println!(\"String array 1st element: {}\", fruits[0]);\n",
    "    println!(\"String array 2nd element: {}\", fruits[1]);\n",
    "    println!(\"String array 3rd element: {}\", fruits[2]);\n",
    "}\n",
    "\n",
    "main();"
   ]
  },
  {
   "cell_type": "markdown",
   "id": "a42bfa7d",
   "metadata": {
    "jupyter": {
     "source_hidden": false
    }
   },
   "source": [
    "### Tuples\n",
    "\n",
    "They are a collection of elements of fixed size. The elements can be of different datatypes\n",
    "\n",
    "They are declared as follows\n",
    "\n",
    "`let <tuple_name> : (<datatypes>) = <values within ()>;`"
   ]
  },
  {
   "cell_type": "code",
   "execution_count": 18,
   "id": "9a58e0d8",
   "metadata": {
    "collapsed": false,
    "jupyter": {
     "outputs_hidden": false,
     "source_hidden": false
    }
   },
   "outputs": [
    {
     "name": "stdout",
     "output_type": "stream",
     "text": [
      "Human Tuple: (\"Vaishnav\", 30, false)\n"
     ]
    },
    {
     "name": "stdout",
     "output_type": "stream",
     "text": [
      "\n"
     ]
    },
    {
     "name": "stdout",
     "output_type": "stream",
     "text": [
      "Mixed Tuple \n"
     ]
    },
    {
     "name": "stdout",
     "output_type": "stream",
     "text": [
      "\n"
     ]
    },
    {
     "name": "stdout",
     "output_type": "stream",
     "text": [
      "Mixed Tuple: (\"Vaishnav\", 20, true, [1, 2, 3, 4, 5])\n"
     ]
    }
   ],
   "source": [
    "fn main() {\n",
    "    let human: (String, i32, bool) = (\"Vaishnav\".to_string(), 30, false);    //.to_string() converts string slice to string\n",
    "    println!(\"Human Tuple: {:?}\", human);\n",
    "    \n",
    "    println!();\n",
    "    \n",
    "    println!(\"Mixed Tuple \\n\");\n",
    "    \n",
    "    let my_mixed_tuple = (\"Vaishnav\", 20, true, [1, 2, 3, 4, 5]);\n",
    "    println!(\"Mixed Tuple: {:?}\", my_mixed_tuple);\n",
    "}\n",
    "main();"
   ]
  },
  {
   "cell_type": "markdown",
   "id": "af61c855",
   "metadata": {
    "jupyter": {
     "source_hidden": false
    }
   },
   "source": [
    "### Slices\n",
    "\n",
    "Dynamically sized view into a contigious sequence of elements. \n",
    "\n",
    "Slices allow you to view the elements without actually taking ownership of it. \n",
    "\n",
    "Contigious = Uninterrupted/ adjacent\n",
    "\n",
    "Basically the memory allocation is done adjacent to each other instead of randomly. \n",
    "\n",
    "In very simple words: \n",
    "\n",
    "**Slices** : Imagine you have a big tray of cookies (an array or vector in Rust). A \"slice\" is like pointing to just a few cookies on that tray without taking them off the tray. You’re not owning the cookies; you’re just looking at a part of them. In Rust, slices let you work with a piece of data without moving or copying it."
   ]
  },
  {
   "cell_type": "markdown",
   "id": "037078f1",
   "metadata": {
    "jupyter": {
     "source_hidden": false
    }
   },
   "source": [
    "**`String` vs. `&str`** : In Rust, there are two ways to handle words or text. A `String` is like owning a notebook where you can write, add, or change words whenever you want—it’s yours to control. On the other hand, `&str` (a string slice) is like borrowing someone else’s notebook and just reading a page from it—you can see the words, but you don’t own the notebook and can’t change it. This difference helps Rust manage memory efficiently and keeps things fast."
   ]
  },
  {
   "cell_type": "code",
   "execution_count": 23,
   "id": "1620eb91",
   "metadata": {
    "collapsed": false,
    "jupyter": {
     "outputs_hidden": false,
     "source_hidden": false
    }
   },
   "outputs": [
    {
     "name": "stdout",
     "output_type": "stream",
     "text": [
      "Number slice: [1, 2, 3, 4, 5]\n"
     ]
    },
    {
     "name": "stdout",
     "output_type": "stream",
     "text": [
      "Pokemon Slices: [\"Rayquaza\", \"Deoxys\", \"Arceus\", \"Pikachu\"]\n"
     ]
    },
    {
     "name": "stdout",
     "output_type": "stream",
     "text": [
      "Pokemon Regions: [\"Kanto\", \"Johto\", \"Hoenn\", \"Sinnoh\", \"Unova\", \"Kalos\", \"Alola\", \"Galar\"]\n"
     ]
    }
   ],
   "source": [
    "fn main(){\n",
    "    let number_slices: &[i32] = &[1, 2, 3, 4, 5]; \n",
    "    println!(\"Number slice: {:?}\", number_slices);\n",
    "    \n",
    "    let pokemon_slices: &[&str] = &[\"Rayquaza\", \"Deoxys\", \"Arceus\", \"Pikachu\"];\n",
    "    // &str is a String slice which is a reference to a String\n",
    "    println!(\"Pokemon Slices: {:?}\", pokemon_slices);\n",
    "    \n",
    "    // Using reference Strings\n",
    "    \n",
    "    let pokemon_regions: &[&String] = &[&\"Kanto\".to_string(), &\"Johto\".to_string(), \n",
    "    &\"Hoenn\".to_string(), &\"Sinnoh\".to_string(), \n",
    "    &\"Unova\".to_string(), &\"Kalos\".to_string(), &\"Alola\".to_string(), &\"Galar\".to_string()];\n",
    "    \n",
    "    println!(\"Pokemon Regions: {:?}\", pokemon_regions);\n",
    "}\n",
    "main();"
   ]
  },
  {
   "cell_type": "markdown",
   "id": "f318374c",
   "metadata": {
    "jupyter": {
     "source_hidden": false
    }
   },
   "source": [
    "Difference between the following 2 lines in the above code \n",
    "\n",
    "```rs\n",
    "let pokemon_slices: &[&str] = &[\"Rayquaza\", \"Deoxys\", \"Arceus\", \"Pikachu\"];\n",
    "```\n",
    "\n",
    "```rs\n",
    "let pokemon_regions: &[&String] = &[&\"Kanto\".to_string(), &\"Johto\".to_string(), \n",
    "    &\"Hoenn\".to_string(), &\"Sinnoh\".to_string(), \n",
    "    &\"Unova\".to_string(), &\"Kalos\".to_string(), &\"Alola\".to_string(), &\"Galar\".to_string()];\n",
    "```\n",
    "\n",
    "Is the following: \n",
    "\n",
    "\n",
    "**Line 1**: `let pokemon_slices: &[&str] = &[\"Rayquaza\", \"Deoxys\", \"Arceus\", \"Pikachu\"];`\n",
    "\n",
    "1. **What it does**: This creates a list of Pokémon names (like \"Rayquaza\" and \"Pikachu\") that are just written as plain text. The `&[&str]` part means it’s a slice (a view) of string slices (`&str`), which are basically pointers to text that doesn’t change and isn’t owned by this line.\n",
    "2. **Simple analogy**: It’s like looking at a poster with Pokémon names written on it. You’re not holding the poster or writing on it—you’re just pointing at the names already there.\n",
    "\n",
    "**Line 2**: `let pokemon_regions: &[&String] = &[&\"Kanto\".to_string(), &\"Johto\".to_string(), ...];`\n",
    "\n",
    "1. **What it does**: This creates a list of region names (like \"Kanto\" and \"Johto\"), but each name is turned into a String (using `.to_string()`), which means each one is a separate, owned piece of text that can be changed later if needed. The `&[&String]` part means it’s a slice of references (&) to those owned Strings.\n",
    "2. **Simple analogy**: It’s like having a stack of notecards, where each notecard has a region name written on it, and you own those notecards. This line is just pointing to those notecards without taking them away."
   ]
  },
  {
   "cell_type": "markdown",
   "id": "6f9db618",
   "metadata": {
    "jupyter": {
     "source_hidden": false
    }
   },
   "source": [
    "### String vs String slices (`&str`)\n",
    "\n",
    "|Property|Strings|String Slices (`&str`)|\n",
    "|---|---|---|\n",
    "|**Mutablility**|Mutable| Immutable |\n",
    "|**Growability**|Growable| Fixed Size|\n",
    "|**Ownership**|Owned `String` Type| Borrowed reference to `String` data|\n",
    "|**Memory Allocation**|Allocated on heap| Usually points to data on stack, heap or static memory|\n",
    "|**Type**| `String` struct| `&str` (reference to a String slice)|\n",
    "|**Creation**| Created with `String::from()` or `\"\".to_string()` | Derived from `String` or string literals (eg: \"Hello\")|\n",
    "|**Lifetime**|Lives as long as `String` owns the data|Tied to the lifetime of the borrowed data|\n",
    "|**Storage**|Stores the actual characters (owns the buffer)| Reference to a portion of a string (no ownership)|\n",
    "|**Performance**| Slow (Due to heap allocation and ownership) | Faster (No allocation, just a reference)|\n",
    "|**Use case**| When you need to modify or build a String| When you only need to read or view a String|\n",
    "|**Example**| `let mut s = String::from(\"hello\");` | `let s: &str = \"hello\";`|\n"
   ]
  },
  {
   "cell_type": "markdown",
   "id": "d98d4ec3",
   "metadata": {
    "jupyter": {
     "source_hidden": false
    }
   },
   "source": [
    "## Heap Memory vs Stack Memory\n",
    "|Property|STACK|HEAP|\n",
    "|---|---|---|\n",
    "|**Memory Allocation**|Automatic (allocated/deallocated by the compiler)| Manual (programmer controls allocation/deallocation)|\n",
    "|**Access Speed**|Faster (due to LIFO structure and locality)|Slower (Due to dynamic allocationand pointer dereferencing)|\n",
    "|**Size Limit**| Fixed (limited by stack frame)|Dynamic size (limited by system memory)|\n",
    "|**Data lifetime**| Short lived (scoped to function calls)| Long-lived (persists until explicitely deallocated)|\n",
    "|**Usage**| Stores local variables , function call data| Stores dynamically sized long-term data (eg: `String` in Rust)| "
   ]
  },
  {
   "cell_type": "markdown",
   "id": "311bb887",
   "metadata": {
    "jupyter": {
     "source_hidden": false
    }
   },
   "source": [
    "## Pointers \n",
    "\n",
    "In Rust, pointers are variables that store memory addresses, with raw pointers (`*const` and `*mut`) allowing unsafe memory access while references (`&T` and `&mut T`) provide safe, managed access with strict ownership rules."
   ]
  },
  {
   "cell_type": "code",
   "execution_count": 5,
   "id": "3e268c16",
   "metadata": {
    "collapsed": false,
    "jupyter": {
     "outputs_hidden": false
    }
   },
   "outputs": [
    {
     "name": "stdout",
     "output_type": "stream",
     "text": [
      "Value via reference: 10\n"
     ]
    },
    {
     "name": "stdout",
     "output_type": "stream",
     "text": [
      "Value of Raw Pointer: 20\n"
     ]
    },
    {
     "name": "stdout",
     "output_type": "stream",
     "text": [
      "Final value: 20\n"
     ]
    }
   ],
   "source": [
    "fn main() {\n",
    "    let mut value = 10;\n",
    "    \n",
    "    //Safe Reference \n",
    "    let ref_value = &value;\n",
    "    println!(\"Value via reference: {}\", ref_value);\n",
    "    \n",
    "    //Raw pointer (Unsafe)\n",
    "    let raw_ptr = &mut value as *mut i32;\n",
    "    unsafe {\n",
    "        *raw_ptr = 20;   //Modify via rawpointer \n",
    "        println!(\"Value of Raw Pointer: {}\", *raw_ptr);\n",
    "    }\n",
    "    \n",
    "    println!(\"Final value: {}\", value);\n",
    "}\n",
    "main();"
   ]
  },
  {
   "cell_type": "code",
   "execution_count": null,
   "id": "46322b37",
   "metadata": {},
   "outputs": [],
   "source": []
  }
 ],
 "metadata": {
  "kernelspec": {
   "display_name": "Rust",
   "language": "rust",
   "name": "rust"
  },
  "language_info": {
   "codemirror_mode": "rust",
   "file_extension": ".rs",
   "mimetype": "text/rust",
   "name": "Rust",
   "pygment_lexer": "rust",
   "version": ""
  },
  "widgets": {
   "application/vnd.jupyter.widget-state+json": {
    "state": {},
    "version_major": 2,
    "version_minor": 0
   }
  }
 },
 "nbformat": 4,
 "nbformat_minor": 5
}
