{
 "cells": [
  {
   "cell_type": "markdown",
   "execution_count": 2,
   "id": "3764aaf8",
   "metadata": {
    "jupyter": {
     "source_hidden": false
    }
   },
   "source": [
    "# Functions"
   ]
  },
  {
   "cell_type": "markdown",
   "id": "79114038",
   "metadata": {
    "jupyter": {
     "source_hidden": false
    }
   },
   "source": [
    "A reusable block of code that can be alled multiple times to perform a certain task"
   ]
  },
  {
   "cell_type": "code",
   "execution_count": 10,
   "id": "91c3cec3",
   "metadata": {
    "collapsed": false,
    "jupyter": {
     "outputs_hidden": false
    }
   },
   "outputs": [
    {
     "name": "stdout",
     "output_type": "stream",
     "text": [
      "Hi there\n"
     ]
    },
    {
     "name": "stdout",
     "output_type": "stream",
     "text": [
      "Nice to meet you\n"
     ]
    }
   ],
   "source": [
    "fn main(){\n",
    "    hello(\"Hi there\");\n",
    "    hello(\"Nice to meet you\"); \n",
    "}\n",
    "\n",
    "fn hello(word: &str){\n",
    "    println!(\"{}\", word);  \n",
    "}\n",
    "\n",
    "main(); "
   ]
  },
  {
   "cell_type": "code",
   "execution_count": 11,
   "id": "5f926863",
   "metadata": {
    "collapsed": false,
    "jupyter": {
     "outputs_hidden": false
    }
   },
   "outputs": [
    {
     "name": "stdout",
     "output_type": "stream",
     "text": [
      "The sum of 50 + 30 is : 80\n"
     ]
    }
   ],
   "source": [
    "fn main(){\n",
    "    let num1: i32 = 50; \n",
    "    let num2: i32 = 30; \n",
    "    let sum = sum(num1, num2); \n",
    "    println!(\"The sum of {} + {} is : {}\", num1, num2, sum);\n",
    "}\n",
    "\n",
    "fn sum(x: i32, y: i32)-> i32 {     //This function returns an i32 datatype\n",
    "    x + y    //OR return x+y;\n",
    "}\n",
    "\n",
    "main();"
   ]
  },
  {
   "cell_type": "code",
   "execution_count": 12,
   "id": "9a5fa534",
   "metadata": {
    "collapsed": false,
    "jupyter": {
     "outputs_hidden": false
    }
   },
   "outputs": [
    {
     "name": "stdout",
     "output_type": "stream",
     "text": [
      "Hi, I am Vaishnav. I am 20 years old and my height is 180 cm\n"
     ]
    }
   ],
   "source": [
    "fn main(){\n",
    "    person(\"Vaishnav\", 20, 180);\n",
    "}\n",
    "\n",
    "fn person(name: &str, age: i32, height: i32){\n",
    "    println!(\"Hi, I am {}. I am {} years old and my height is {} cm\", name, age, height); \n",
    "}\n",
    "\n",
    "main(); "
   ]
  },
  {
   "cell_type": "markdown",
   "id": "20fa621a",
   "metadata": {
    "jupyter": {
     "source_hidden": false
    }
   },
   "source": [
    "## Block expressions"
   ]
  },
  {
   "cell_type": "code",
   "execution_count": 13,
   "id": "58a11532",
   "metadata": {
    "collapsed": false,
    "jupyter": {
     "outputs_hidden": false,
     "source_hidden": false
    }
   },
   "outputs": [
    {
     "name": "stdout",
     "output_type": "stream",
     "text": [
      "Output of block expression: 20000\n"
     ]
    }
   ],
   "source": [
    "fn main(){\n",
    "    let x = {\n",
    "        let price = 1000;\n",
    "        let qty = 20;\n",
    "        price * qty\n",
    "    };\n",
    "    \n",
    "    println!(\"Output of block expression: {}\", x);\n",
    "}\n",
    "main();"
   ]
  },
  {
   "cell_type": "code",
   "execution_count": 14,
   "id": "5c1d9d92",
   "metadata": {
    "collapsed": false,
    "jupyter": {
     "outputs_hidden": false,
     "source_hidden": false
    }
   },
   "outputs": [
    {
     "name": "stdout",
     "output_type": "stream",
     "text": [
      "Mixed Block expression output: 2010.5\n"
     ]
    }
   ],
   "source": [
    "//Using Multiple datatyps \n",
    "fn main(){\n",
    "    let x = {\n",
    "        let price: f64 = 100.5;\n",
    "        let qty: i32 = 10;\n",
    "        let tax_rate: f64 = 0.5;\n",
    "        let subtotal = price * qty as f64;   //converting to f64\n",
    "        subtotal + (subtotal + tax_rate)\n",
    "    };\n",
    "    \n",
    "    println!(\"Mixed Block expression output: {}\", x);\n",
    "}\n",
    "\n",
    "main();"
   ]
  },
  {
   "cell_type": "markdown",
   "id": "8d9414eb",
   "metadata": {
    "jupyter": {
     "source_hidden": false
    }
   },
   "source": [
    "## Returning values using functions"
   ]
  },
  {
   "cell_type": "code",
   "execution_count": 15,
   "id": "3a29b924",
   "metadata": {
    "collapsed": false,
    "jupyter": {
     "outputs_hidden": false,
     "source_hidden": false
    }
   },
   "outputs": [
    {
     "name": "stdout",
     "output_type": "stream",
     "text": [
      "5\n"
     ]
    }
   ],
   "source": [
    "fn main(){\n",
    "    let n: i32 = 5;\n",
    "    let result = fibonacci(n); \n",
    "    println!(\"{}\", result);\n",
    "}\n",
    "\n",
    "fn fibonacci(n: i32) -> i32 {\n",
    "    if n <= 1 {\n",
    "        n                  //Or return n;\n",
    "    }\n",
    "    else{\n",
    "        fibonacci(n - 1) + fibonacci(n - 2)    //Or return fibonacci(n - 1) + fibonacci(n - 2)\n",
    "    }\n",
    "}\n",
    "\n",
    "main();"
   ]
  },
  {
   "cell_type": "markdown",
   "execution_count": 2,
   "id": "7f823ebf",
   "metadata": {
    "collapsed": false,
    "jupyter": {
     "outputs_hidden": false,
     "source_hidden": false
    }
   },
   "source": [
    "## Body Mass Index (BMI) Function"
   ]
  },
  {
   "cell_type": "code",
   "execution_count": 23,
   "id": "1019a1fe",
   "metadata": {
    "collapsed": false,
    "jupyter": {
     "outputs_hidden": false,
     "source_hidden": false
    }
   },
   "outputs": [
    {
     "name": "stdout",
     "output_type": "stream",
     "text": [
      "Yout BMI is: 25.89\n"
     ]
    }
   ],
   "source": [
    "fn main(){\n",
    "    let weight: f64 = 89.0;\n",
    "    let height: f64 = 1.8542;\n",
    "    \n",
    "    let bmi_out: f64 = bmi(weight, height);\n",
    "    \n",
    "    println!(\"Yout BMI is: {:.2}\", bmi_out);   //Displays only 2 decimal points\n",
    "}\n",
    "\n",
    "fn bmi(weight_kg: f64, height_m: f64) -> f64 {\n",
    "    weight_kg / (height_m * height_m)    \n",
    "}\n",
    "\n",
    "main();"
   ]
  },
  {
   "cell_type": "code",
   "execution_count": 17,
   "id": "5e7a0e65",
   "metadata": {
    "collapsed": false,
    "jupyter": {
     "outputs_hidden": false
    }
   },
   "outputs": [],
   "source": []
  }
 ],
 "metadata": {
  "kernelspec": {
   "display_name": "Rust",
   "language": "rust",
   "name": "rust"
  },
  "language_info": {
   "codemirror_mode": "rust",
   "file_extension": ".rs",
   "mimetype": "text/rust",
   "name": "Rust",
   "pygment_lexer": "rust",
   "version": ""
  },
  "widgets": {
   "application/vnd.jupyter.widget-state+json": {
    "state": {},
    "version_major": 2,
    "version_minor": 0
   }
  }
 },
 "nbformat": 4,
 "nbformat_minor": 5
}
